{
 "cells": [
  {
   "cell_type": "code",
   "execution_count": 1,
   "metadata": {},
   "outputs": [],
   "source": [
    "import rioxarray as rxr\n",
    "import xarray as xr\n",
    "from dataclasses import asdict\n",
    "from dscreator.cfarray.attributes import DatasetAttrsGrid, VariableAttrs\n",
    "from datetime import datetime\n",
    "from dscreator import utils\n",
    "from dscreator.storage import get_storage_handler"
   ]
  },
  {
   "attachments": {},
   "cell_type": "markdown",
   "metadata": {},
   "source": [
    "If you want to run this on the hub in a venv of its own use\n",
    "\n",
    "```bash\n",
    "curl -sSL https://install.python-poetry.org | python3 -\n",
    "export PATH=\"/home/jovyan/.local/bin:$PATH\"\n",
    "\n",
    "# inside datasetcreator directory\n",
    "poetry install\n",
    "python -m ipykernel install --user --name=dscreator \n",
    "\n",
    "```\n",
    "\n",
    "you can now select a kernel named dscreator. It is also possible to install dependencies on the default kernel."
   ]
  },
  {
   "attachments": {},
   "cell_type": "markdown",
   "metadata": {},
   "source": [
    "# Introduction\n",
    "\n",
    "For [S-ENDA](https://s-enda.met.no/), NILU suggested that we could use the project `2022 Tålegrenseprosjekt` as a use case for data sharing. The sharepoint site can be found [here](https://niva365.sharepoint.com/:f:/r/sites/projects/3383/Shared%20Documents/Projects/2022%20T%C3%A5legrenseprosjekt?csf=1&web=1&e=Udp351). \n",
    "\n",
    "Notes:\n",
    "\n",
    "* The Steady-State Water Chemistry (SSWC), som beregner tålegrenser for sterk syre og overskridelse med utgangspunkt i at utlekkingen av nitrogen forblir konstant på dagens nivå.  \n",
    "* The First-order Acidity Balance (FAB), calculates limits for sulphur og nitrogen\n",
    "\n",
    "This script adds metadata according to S-ENDA [acdd+cf](https://metno.github.io/data-management-handbook/#acdd-elements) and converts the `GeoTIFF` to `CF-NetCDF` that we can share over `OPeNDAP` and `WMS` the iso 19115-2 metadata can be generated from the netcdf or ncml. \n",
    "\n",
    "The source code for the datasets used in this notebook can be found in [critical_loads_2](https://github.com/JamesSample/critical_loads_2), while in NILUs example dataset can be found [here](https://dev-thredds.nilu.no/thredds/catalog/SENDA/catalog.html?dataset=SENDA/xso4_2021.nc)."
   ]
  },
  {
   "attachments": {},
   "cell_type": "markdown",
   "metadata": {},
   "source": [
    "## Source files\n",
    "\n",
    "These files are required:\n",
    "* fab_exns_meqpm2pyr_1721_metgrid_120m.tif\n",
    "* sswc_ex_meqpm2pyr_1721_metgrid_120m.tif\n",
    "* veg_ex_meqpm2pyr_1721_metgrid_120m.tif\n",
    "\n",
    "They can be found on `~/shared/common/critical_loads/raster/for_espen/exceedance` on the hub.p.niva.no or in [Raster_Output](https://niva365.sharepoint.com/sites/projects/3383/Shared%20Documents/Forms/AllItems.aspx?csf=1&web=1&e=Udp351&cid=5437584c%2D4eea%2D4b43%2Db7cc%2Dd30200cd9d23&FolderCTID=0x01200023B9EEB8E9C0094580920107C7844708&id=%2Fsites%2Fprojects%2F3383%2FShared%20Documents%2FProjects%2F2022%20T%C3%A5legrenseprosjekt%2FRaster%5FOutput&viewid=aa29078f%2D5cb7%2D41dd%2Da376%2D38bbe9dc6fa4)"
   ]
  },
  {
   "attachments": {},
   "cell_type": "markdown",
   "metadata": {},
   "source": [
    "### Load source datasets\n",
    "\n",
    "Currently using the once sent to `espen`:) but can also use other I guess"
   ]
  },
  {
   "cell_type": "code",
   "execution_count": null,
   "metadata": {},
   "outputs": [],
   "source": [
    "data_path = \"/home/jovyan/shared/common/critical_loads/raster/for_espen/exceedance\"\n",
    "unit, unit_long = \"meqpm2pyr\", \"mEkv/m^2/year\"\n",
    "dep_serie = \"1721_metgrid\" # new deposition grid\n",
    "cell_size = \"120m\"\n",
    "\n",
    "name = \"fab\"\n",
    "da_fab = rxr.open_rasterio(f\"{data_path}/{name}_exns_{unit}_{dep_serie}_{cell_size}.tif\").drop_vars(\"band\")\n",
    "da_fab.name = name\n",
    "# Haven't checked if there is any CF standard names to use so setting `short-name` instead\n",
    "da_fab.attrs = asdict(VariableAttrs(long_name=\"First-order Acidity Balance\", units=unit_long, short_name=name))\n",
    "da_fab = da_fab.rio.reproject(\"EPSG:4326\")\n",
    "\n",
    "name = \"sswc\"\n",
    "da_sswc = rxr.open_rasterio(f\"{data_path}/{name}_ex_{unit}_{dep_serie}_{cell_size}.tif\").drop_vars(\"band\")\n",
    "da_sswc.name = name\n",
    "da_sswc.attrs = asdict(VariableAttrs(long_name=\"Steady-State Water Chemistry\", units=unit_long, short_name=name))\n",
    "da_sswc = da_sswc.rio.reproject(\"EPSG:4326\")\n",
    "\n",
    "name = \"veg\"\n",
    "da_veg = rxr.open_rasterio(f\"{data_path}/{name}_ex_{unit}_{dep_serie}_{cell_size}.tif\").drop_vars(\"band\")\n",
    "da_veg.name = name\n",
    "da_veg.attrs = asdict(VariableAttrs(long_name=\"Vegetation\", units=unit_long, short_name=name))\n",
    "da_veg = da_veg.rio.reproject(\"EPSG:4326\")"
   ]
  },
  {
   "attachments": {},
   "cell_type": "markdown",
   "metadata": {},
   "source": [
    "Merge the dataarrays into a dataset"
   ]
  },
  {
   "cell_type": "code",
   "execution_count": null,
   "metadata": {},
   "outputs": [],
   "source": [
    "ds = xr.merge([da_fab, da_sswc, da_veg]).sel(band=0)"
   ]
  },
  {
   "cell_type": "code",
   "execution_count": null,
   "metadata": {},
   "outputs": [],
   "source": [
    "ds.attrs = asdict(\n",
    "    DatasetAttrsGrid(\n",
    "        title=\"Test exceedence limits water and vegetation 2017-2021\",\n",
    "        title_no=\"Test overskridelser av tålegrenser vann og vegetasjon 2017-2021\",\n",
    "        summary=\"Exceedence limits for water using the SSWCoaa or FABoaa models, and vegetation using emperical derived data on the new deposition grid from Met.no.\",\n",
    "        summary_no=\"Overskridelser av tålegrenser for vann ved SSWCoaa or FABoaa modellene og vegetasjon ved empirisk data på nytt rutenett fra Met.no. \",\n",
    "        # https://gcmd.earthdata.nasa.gov/KeywordViewer\n",
    "        keywords=\",\".join(\n",
    "            [\n",
    "                \"GCMDSK:EARTH SCIENCE > LAND SURFACE > SOILS > NITROGEN\",\n",
    "                \"GCMDSK:EARTH SCIENCE > LAND SURFACE > SOILS > SULFUR\",\n",
    "                \"GCMDLOC:CONTINENT > EUROPE > NORTHERN EUROPE > SCANDINAVIA > NORWAY\",\n",
    "            ]\n",
    "        ),\n",
    "        keywords_vocabulary=\",\".join(\n",
    "            [\n",
    "                \"GCMDSK:GCMD Science Keywords:https://gcmd.earthdata.nasa.gov/kms/concepts/concept_scheme/sciencekeywords\",\n",
    "                \"GCMDLOC:GCMD Locations:https://gcmd.earthdata.nasa.gov/kms/concepts/concept_scheme/locations\",\n",
    "            ]\n",
    "        ),\n",
    "        iso_topic_category=\"environment\",\n",
    "        spatial_representation=\"grid\",\n",
    "        date_created=str(datetime.now()),\n",
    "        project=\"Tålegrense\",\n",
    "        time_coverage_start=utils.to_isoformat(datetime(2017, 1, 1)),\n",
    "        time_coverage_end=utils.to_isoformat(datetime(2021, 12, 31)),\n",
    "        geospatial_lon_min=float(ds.x.min()),\n",
    "        geospatial_lon_max=float(ds.x.max()),\n",
    "        geospatial_lat_min=float(ds.y.min()),\n",
    "        geospatial_lat_max=float(ds.y.max()),\n",
    "        history=f\"dscreator({str(datetime.now())}) reprojected to EPSG:4326,populated metadata\",\n",
    "    )\n",
    ")\n",
    "ds.attrs[\"references\"] = \"https://LINK_TO_REPORT.pdf\""
   ]
  },
  {
   "cell_type": "code",
   "execution_count": null,
   "metadata": {},
   "outputs": [],
   "source": [
    "ds"
   ]
  },
  {
   "cell_type": "code",
   "execution_count": null,
   "metadata": {},
   "outputs": [],
   "source": [
    "# plotting can be a bit slow\n",
    "#ds.fab.plot(vmin=0, vmax=50, cmap=\"coolwarm\")"
   ]
  },
  {
   "cell_type": "code",
   "execution_count": null,
   "metadata": {},
   "outputs": [],
   "source": [
    "get_storage_handler(\n",
    "    project_name=\"exceedance-limits\",\n",
    "    dataset_name=\"fab-sswc-veg-exceedence\",\n",
    "    filename_prefix=\"2017-2021\").save_dataset(ds)"
   ]
  },
  {
   "attachments": {},
   "cell_type": "markdown",
   "metadata": {},
   "source": [
    "This stores the dataset locally, to automatically upload the dataset set the env variable \n",
    "\n",
    "```.env\n",
    "STORAGE_PATH=gs://nivatest-1-senda\n",
    "```\n",
    "\n",
    "and generate default credentials using gcloud, the storage handler will then store the dataset on object store."
   ]
  }
 ],
 "metadata": {
  "kernelspec": {
   "display_name": ".venv",
   "language": "python",
   "name": "python3"
  },
  "language_info": {
   "codemirror_mode": {
    "name": "ipython",
    "version": 3
   },
   "file_extension": ".py",
   "mimetype": "text/x-python",
   "name": "python",
   "nbconvert_exporter": "python",
   "pygments_lexer": "ipython3",
   "version": "3.10.13"
  },
  "orig_nbformat": 4,
  "vscode": {
   "interpreter": {
    "hash": "8599d4abdcd79e44112ed10d9742620c174ade4b2d29c3018e341178e884d761"
   }
  }
 },
 "nbformat": 4,
 "nbformat_minor": 2
}
