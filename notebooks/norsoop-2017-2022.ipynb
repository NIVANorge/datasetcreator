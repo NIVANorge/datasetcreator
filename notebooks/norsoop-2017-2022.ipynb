{
 "cells": [
  {
   "cell_type": "code",
   "metadata": {
    "collapsed": true,
    "pycharm": {
     "name": "#%% import\n"
    }
   },
   "source": [
    "import os\n",
    "import pandas as pd\n",
    "import rioxarray as rxr\n",
    "import xarray as xr\n",
    "from dataclasses import asdict\n",
    "from dscreator.cfarray.attributes import DatasetAttrsGrid, VariableAttrs\n",
    "from datetime import datetime\n",
    "from dscreator import utils\n",
    "from dscreator.storage import BaseHandler, get_storage_handler\n",
    "from dscreator.sources.base import BaseExtractor, NamedArray, NamedTrajectory, Point, FeatureBase\n",
    "from dscreator.sources.ferrybox.extractor import TrajectoryExtractor\n",
    "from sqlalchemy import create_engine\n",
    "from dscreator.config import SETTINGS\n",
    "from dscreator.datasets.trajectories.ferrybox import FerryboxTrajBuilder\n",
    "import numpy as np"
   ],
   "execution_count": 1,
   "outputs": []
  },
  {
   "cell_type": "code",
   "execution_count": 2,
   "outputs": [],
   "source": [
    "boat = \"FA\"\n",
    "measurement_parameters = [\"Temperature\", \"Salinity\", \"Oxygen\"]\n",
    "uuid=\"29b7de62-e1fa-4dce-90e4-7ff8a0931397\"\n",
    "datasetname=\"ColorFantasy_ferrybox\"\n",
    "stationname=\"ColorFantasy\"\n",
    "projectname=\"NorSoop\""
   ],
   "metadata": {
    "collapsed": false,
    "pycharm": {
     "name": "#%% input parameters\n"
    }
   }
  },
  {
   "cell_type": "code",
   "execution_count": 3,
   "outputs": [
    {
     "name": "stdout",
     "output_type": "stream",
     "text": [
      " about to fetch month 1 end date 31\n",
      " about to fetch month 1 end date 31\n",
      " about to fetch month 2 end date 28\n",
      " about to fetch month 2 end date 28\n",
      " about to fetch month 3 end date 31\n",
      " about to fetch month 3 end date 31\n",
      " about to fetch month 4 end date 30\n",
      " about to fetch month 4 end date 30\n",
      " about to fetch month 5 end date 31\n",
      " about to fetch month 5 end date 31\n",
      " about to fetch month 6 end date 30\n",
      " about to fetch month 6 end date 30\n",
      " about to fetch month 7 end date 31\n",
      " about to fetch month 7 end date 31\n",
      " about to fetch month 8 end date 31\n",
      " about to fetch month 8 end date 31\n",
      " about to fetch month 9 end date 30\n",
      " about to fetch month 9 end date 30\n",
      " about to fetch month 10 end date 31\n",
      " about to fetch month 10 end date 31\n",
      " about to fetch month 11 end date 30\n",
      " about to fetch month 11 end date 30\n",
      " about to fetch month 12 end date 31\n",
      " about to fetch month 12 end date 31\n",
      " about to fetch month 1 end date 31\n",
      " about to fetch month 1 end date 31\n",
      " about to fetch month 2 end date 28\n",
      " about to fetch month 2 end date 28\n",
      " about to fetch month 3 end date 31\n",
      " about to fetch month 3 end date 31\n",
      " about to fetch month 4 end date 30\n",
      " about to fetch month 4 end date 30\n",
      " about to fetch month 5 end date 31\n",
      " about to fetch month 5 end date 31\n",
      " about to fetch month 6 end date 30\n",
      " about to fetch month 6 end date 30\n",
      " about to fetch month 7 end date 31\n",
      " about to fetch month 7 end date 31\n",
      " about to fetch month 8 end date 31\n",
      " about to fetch month 8 end date 31\n",
      " about to fetch month 9 end date 30\n",
      " about to fetch month 9 end date 30\n",
      " about to fetch month 10 end date 31\n",
      " about to fetch month 10 end date 31\n",
      " about to fetch month 11 end date 30\n",
      " about to fetch month 11 end date 30\n",
      " about to fetch month 12 end date 31\n",
      " about to fetch month 12 end date 31\n",
      " about to fetch month 1 end date 31\n",
      " about to fetch month 1 end date 31\n",
      " about to fetch month 2 end date 28\n",
      " about to fetch month 2 end date 28\n",
      " about to fetch month 3 end date 31\n",
      " about to fetch month 3 end date 31\n",
      " about to fetch month 4 end date 30\n",
      " about to fetch month 4 end date 30\n",
      " about to fetch month 5 end date 31\n",
      " about to fetch month 5 end date 31\n",
      " about to fetch month 6 end date 30\n",
      " about to fetch month 6 end date 30\n",
      " about to fetch month 7 end date 31\n",
      " about to fetch month 7 end date 31\n",
      " about to fetch month 8 end date 31\n",
      " about to fetch month 8 end date 31\n",
      " about to fetch month 9 end date 30\n",
      " about to fetch month 9 end date 30\n",
      " about to fetch month 10 end date 31\n",
      " about to fetch month 10 end date 31\n",
      " about to fetch month 11 end date 30\n",
      " about to fetch month 11 end date 30\n",
      " about to fetch month 12 end date 31\n",
      " about to fetch month 12 end date 31\n",
      " about to fetch month 1 end date 31\n",
      " about to fetch month 1 end date 31\n",
      " about to fetch month 2 end date 28\n",
      " about to fetch month 2 end date 29\n",
      " about to fetch month 3 end date 31\n",
      " about to fetch month 3 end date 31\n",
      " about to fetch month 4 end date 30\n",
      " about to fetch month 4 end date 30\n",
      " about to fetch month 5 end date 31\n",
      " about to fetch month 5 end date 31\n",
      " about to fetch month 6 end date 30\n",
      " about to fetch month 6 end date 30\n",
      " about to fetch month 7 end date 31\n",
      " about to fetch month 7 end date 31\n",
      " about to fetch month 8 end date 31\n",
      " about to fetch month 8 end date 31\n",
      " about to fetch month 9 end date 30\n",
      " about to fetch month 9 end date 30\n",
      " about to fetch month 10 end date 31\n",
      " about to fetch month 10 end date 31\n",
      " about to fetch month 11 end date 30\n",
      " about to fetch month 11 end date 30\n",
      " about to fetch month 12 end date 31\n",
      " about to fetch month 12 end date 31\n",
      " about to fetch month 1 end date 31\n",
      " about to fetch month 1 end date 31\n",
      " about to fetch month 2 end date 28\n",
      " about to fetch month 2 end date 28\n",
      " about to fetch month 3 end date 31\n",
      " about to fetch month 3 end date 31\n",
      " about to fetch month 4 end date 30\n",
      " about to fetch month 4 end date 30\n",
      " about to fetch month 5 end date 31\n",
      " about to fetch month 5 end date 31\n",
      " about to fetch month 6 end date 30\n",
      " about to fetch month 6 end date 30\n",
      " about to fetch month 7 end date 31\n",
      " about to fetch month 7 end date 31\n",
      " about to fetch month 8 end date 31\n",
      " about to fetch month 8 end date 31\n",
      " about to fetch month 9 end date 30\n",
      " about to fetch month 9 end date 30\n",
      " about to fetch month 10 end date 31\n",
      " about to fetch month 10 end date 31\n",
      " about to fetch month 11 end date 30\n",
      " about to fetch month 11 end date 30\n",
      " about to fetch month 12 end date 31\n",
      " about to fetch month 12 end date 31\n",
      " about to fetch month 1 end date 31\n",
      " about to fetch month 1 end date 31\n",
      " about to fetch month 2 end date 28\n",
      " about to fetch month 2 end date 28\n",
      " about to fetch month 3 end date 31\n",
      " about to fetch month 3 end date 31\n",
      " about to fetch month 4 end date 30\n",
      " about to fetch month 4 end date 30\n",
      " about to fetch month 5 end date 31\n",
      " about to fetch month 5 end date 31\n",
      " about to fetch month 6 end date 30\n",
      " about to fetch month 6 end date 30\n",
      " about to fetch month 7 end date 31\n",
      " about to fetch month 7 end date 31\n",
      " about to fetch month 8 end date 31\n",
      " about to fetch month 8 end date 31\n",
      " about to fetch month 9 end date 30\n",
      " about to fetch month 9 end date 30\n",
      " about to fetch month 10 end date 31\n",
      " about to fetch month 10 end date 31\n",
      " about to fetch month 11 end date 30\n",
      " about to fetch month 11 end date 30\n",
      " about to fetch month 12 end date 31\n",
      " about to fetch month 12 end date 31\n"
     ]
    }
   ],
   "source": [
    "engine = create_engine(SETTINGS.database_url)\n",
    "te = TrajectoryExtractor(engine, boat, measurement_parameters)\n",
    "\n",
    "years = [2017, 2018, 2019, 2020, 2021, 2022]\n",
    "# 2022 Feb has 29 days\n",
    "months = [i+1 for i in range(12)]\n",
    "days = [31, 28, 31, 30, 31, 30, 31,31,30,31,30,31]\n",
    "ts_array = []\n",
    "for y in years:\n",
    "    for m,d in zip(months, days):\n",
    "        print(f\" about to fetch month {m} end date {d}\")\n",
    "        if y==2020 and m ==2:\n",
    "            d = 29\n",
    "        print(f\" about to fetch month {m} end date {d}\")\n",
    "        ts_array.append(\n",
    "            te.fetch_slice(start_time=datetime(y, m, 1, 0, 0, 0), end_time=datetime(y, m, d, 0, 0, 0)))\n",
    "ts = ts_array[0]\n",
    "for i in range(1, len(ts_array)):\n",
    "     ts = ts + ts_array[i]\n",
    "# ts=te.fetch_slice(start_time=datetime(2022, 12, 29, 0, 0, 0), end_time=datetime(2020, 1, 2, 0, 0, 0))\n"
   ],
   "metadata": {
    "collapsed": false,
    "pycharm": {
     "name": "#%% fetch data\n"
    }
   }
  },
  {
   "cell_type": "code",
   "execution_count": 4,
   "outputs": [
    {
     "name": "stdout",
     "output_type": "stream",
     "text": [
      "Creating manual QC lookup list\n",
      "Found 100880 timestamp with no flow, and 33445 with bad oxygen\n",
      "19325 timestamps overlap\n",
      "About to set values for oxygen to None for bad oxygen timestamps\n",
      "About to remove bad flow data. Before removal size of data based on location is 1732546\n",
      "After removal size of data based on location is 1631666\n"
     ]
    }
   ],
   "source": [
    "print(f\"Creating manual QC lookup list\")\n",
    "rm_T = []\n",
    "rm_ox = []\n",
    "for file in os.listdir(os.getcwd()+'/Norsoop-manual-qc-files'):\n",
    "    if file.startswith(boat) and 'ox_sat' not in file:\n",
    "        rm_T.append(pd.read_csv('Norsoop-manual-qc-files/'+file, header=None))\n",
    "    if file.startswith(boat) and 'ox_sat' in file:\n",
    "        rm_ox.append(pd.read_csv('Norsoop-manual-qc-files/'+file, header=None))\n",
    "bad_T = pd.concat(rm_T, ignore_index=True)\n",
    "bad_ox = pd.concat(rm_ox, ignore_index=True)\n",
    "bad_T = np.array([dt.to_pydatetime() for dt in pd.to_datetime(bad_T[bad_T.columns[0]]).to_list()])\n",
    "bad_ox = np.array([dt.to_pydatetime() for dt in pd.to_datetime(bad_ox[bad_ox.columns[0]]).to_list()])\n",
    "i_bad_T = np.intersect1d(np.array(ts.datetime_list), bad_T, return_indices=True)[1]\n",
    "i_bad_ox = np.intersect1d(np.array(ts.datetime_list), bad_ox, return_indices=True)[1]\n",
    "print(f\"Found {len(i_bad_T)} timestamp with no flow, and {len(i_bad_ox)} with bad oxygen\")\n",
    "print(f\"{len(np.intersect1d(i_bad_T, i_bad_ox))} timestamps overlap\")\n",
    "print(f\"About to set values for oxygen to None for bad oxygen timestamps\")\n",
    "\n",
    "\n",
    "\n",
    "ts = NamedTrajectory(\n",
    "    array_list=[NamedArray(variable_name=nta.variable_name, values=[val if i not in i_bad_ox else None for (i,val) in enumerate(nta.values)])\n",
    "                if nta.variable_name==\"Oxygen\" else nta for nta in ts.array_list],\n",
    "    datetime_list=ts.datetime_list,\n",
    "    locations=ts.locations)\n",
    "\n",
    "print(f\"About to remove bad flow data. Before removal size of data based on location is \"\n",
    "      f\"{len(ts.locations)}\")\n",
    "ts = NamedTrajectory(\n",
    "    array_list=[NamedArray(nta.variable_name, list(np.delete(nta.values, i_bad_T)))\n",
    "                for nta in ts.array_list],\n",
    "    datetime_list=list(np.delete(ts.datetime_list, i_bad_T)),\n",
    "    locations=list(np.delete(ts.locations, i_bad_T)))\n",
    "print(f\"After removal size of data based on location is {len(ts.locations)}\")\n"
   ],
   "metadata": {
    "collapsed": false,
    "pycharm": {
     "name": "#%% apply manual QC\n"
    }
   }
  },
  {
   "cell_type": "code",
   "execution_count": 5,
   "outputs": [],
   "source": [
    "tb = FerryboxTrajBuilder(\n",
    "    uuid=uuid,\n",
    "    dataset_name=datasetname,\n",
    "    station_name=stationname,\n",
    "    project_name=projectname,\n",
    "    is_acdd=True,\n",
    ")\n",
    "ds = tb.create(ts)"
   ],
   "metadata": {
    "collapsed": false,
    "pycharm": {
     "name": "#%% build dataset\n"
    }
   }
  },
  {
   "cell_type": "code",
   "execution_count": 6,
   "outputs": [
    {
     "name": "stdout",
     "output_type": "stream",
     "text": [
      "Saving dataset slice 2017-01-01T13:25:03.000000000 --> 2022-12-31T00:00:00.000000000\n",
      "Dataset was successfully saved\n"
     ]
    }
   ],
   "source": [
    "if ds.dims[\"time\"] > 0:\n",
    "    print(f\"Saving dataset slice {ds.time[0].values} --> {ds.time[-1].values}\")\n",
    "\n",
    "    sh= get_storage_handler(\n",
    "        project_name=str(datasetname),\n",
    "        dataset_name=str(stationname),\n",
    "        unlimited_dims=[\"time\"],\n",
    "        filename_prefix= f\"FA-2017-2022\"\n",
    "    )\n",
    "    sh.save_dataset(ds)\n",
    "    print(\"Dataset was successfully saved\")\n",
    "else:\n",
    "    print(\"Found no data for interval\")"
   ],
   "metadata": {
    "collapsed": false,
    "pycharm": {
     "name": "#%% store dataset\n"
    }
   }
  },
  {
   "cell_type": "code",
   "execution_count": 10,
   "outputs": [
    {
     "name": "stdout",
     "output_type": "stream",
     "text": [
      "KeysView(Frozen({'sea_water_temperature': <xarray.Variable (time: 1631666)>\n",
      "[1631666 values with dtype=float64]\n",
      "Attributes:\n",
      "    long_name:      sea_water_temperature\n",
      "    units:          degree_Celsius\n",
      "    standard_name:  sea_water_temperature, 'salinity': <xarray.Variable (time: 1631666)>\n",
      "[1631666 values with dtype=float64]\n",
      "Attributes:\n",
      "    long_name:      Sea Water Salinity\n",
      "    units:          PSU\n",
      "    standard_name:  sea_water_salinity, 'oxygen': <xarray.Variable (time: 1631666)>\n",
      "[1631666 values with dtype=float64]\n",
      "Attributes:\n",
      "    long_name:      Sea Water Oxygen Saturation\n",
      "    units:          %\n",
      "    standard_name:  sea_water_oxygen_saturation, 'trajectory_name': <xarray.Variable ()>\n",
      "[1 values with dtype=object]\n",
      "Attributes:\n",
      "    cf_role:  trajectory_id, 'time': <xarray.IndexVariable 'time' (time: 1631666)>\n",
      "array(['2017-01-01T13:25:03.000000000', '2017-01-01T13:26:03.000000000',\n",
      "       '2017-01-01T13:27:03.000000000', ..., '2022-12-30T23:58:00.000000000',\n",
      "       '2022-12-30T23:59:00.000000000', '2022-12-31T00:00:00.000000000'],\n",
      "      dtype='datetime64[ns]')\n",
      "Attributes:\n",
      "    standard_name:  time\n",
      "    long_name:      Time of measurement\n",
      "    axis:           T, 'longitude': <xarray.Variable (time: 1631666)>\n",
      "[1631666 values with dtype=float64]\n",
      "Attributes:\n",
      "    standard_name:               longitude\n",
      "    long_name:                   longitude\n",
      "    units:                       degree_east\n",
      "    valid_min:                   -180.0\n",
      "    valid_max:                   180.0\n",
      "    axis:                        X\n",
      "    coordinate_reference_frame:  urn:ogc:def:crs:EPSG::4326, 'latitude': <xarray.Variable (time: 1631666)>\n",
      "[1631666 values with dtype=float64]\n",
      "Attributes:\n",
      "    standard_name:               latitude\n",
      "    long_name:                   latitude\n",
      "    units:                       degree_north\n",
      "    valid_min:                   -90.0\n",
      "    valid_max:                   90.0\n",
      "    axis:                        Y\n",
      "    coordinate_reference_frame:  urn:ogc:def:crs:EPSG::4326}))\n"
     ]
    },
    {
     "data": {
      "text/plain": "[<matplotlib.lines.Line2D at 0x1521a85d0>]"
     },
     "execution_count": 10,
     "metadata": {},
     "output_type": "execute_result"
    },
    {
     "data": {
      "text/plain": "<Figure size 640x480 with 1 Axes>",
      "image/png": "[encoded data removed]"
     },
     "metadata": {},
     "output_type": "display_data"
    }
   ],
   "source": [
    "import netCDF4\n",
    "import xarray as xr\n",
    "#ds = netCDF4.Dataset(\"catalog/datasets/colorfantasy_ferrybox/ColorFantasy/FA-2017_acdd_colorfantasy.nc\")\n",
    "ds=xr.open_dataset(\"catalog/datasets/colorfantasy_ferrybox/ColorFantasy/FA-2017-2022_colorfantasy.nc\")\n",
    "print(ds.variables.keys())\n",
    "sea_water_temperature = ds.variables['sea_water_temperature']  # access a variable in the file\n",
    "ds.sea_water_temperature.plot.line(\"o\")\n",
    "oxygen = ds.variables['oxygen']  # access a variable in the file\n",
    "ds.oxygen.plot.line(\"o\")\n",
    "salinity = ds.variables['salinity']  # access a variable in the file\n",
    "ds.salinity.plot.line(\"o\")\n"
   ],
   "metadata": {
    "collapsed": false,
    "pycharm": {
     "name": "#%%\n"
    }
   }
  }
 ],
 "metadata": {
  "kernelspec": {
   "name": "pycharm-59065761",
   "language": "python",
   "display_name": "PyCharm (datasetcreator)"
  },
  "language_info": {
   "codemirror_mode": {
    "name": "ipython",
    "version": 2
   },
   "file_extension": ".py",
   "mimetype": "text/x-python",
   "name": "python",
   "nbconvert_exporter": "python",
   "pygments_lexer": "ipython2",
   "version": "2.7.6"
  }
 },
 "nbformat": 4,
 "nbformat_minor": 0
}