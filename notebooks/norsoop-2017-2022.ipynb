{
 "cells": [
  {
   "cell_type": "code",
   "metadata": {
    "collapsed": true,
    "pycharm": {
     "name": "#%% import\n"
    }
   },
   "source": [
    "import os\n",
    "import rioxarray as rxr\n",
    "import xarray as xr\n",
    "from dataclasses import asdict\n",
    "from dscreator.cfarray.attributes import DatasetAttrsGrid, VariableAttrs\n",
    "from datetime import datetime\n",
    "from dscreator import utils\n",
    "from dscreator.storage import BaseHandler, get_storage_handler\n",
    "from dscreator.sources.ferrybox.extractor import TrajectoryExtractor\n",
    "from sqlalchemy import create_engine\n",
    "from dscreator.config import SETTINGS\n",
    "from dscreator.datasets.trajectories.ferrybox import FerryboxTrajBuilder"
   ],
   "execution_count": 67,
   "outputs": []
  },
  {
   "cell_type": "code",
   "execution_count": 68,
   "outputs": [],
   "source": [
    "boat = \"FA\"\n",
    "measurement_parameters = [\"Temperature\", \"Salinity\", \"Oxygen\"]\n",
    "uuid=\"29b7de62-e1fa-4dce-90e4-7ff8a0931397\"\n",
    "datasetname=\"FA_ferrybox_2017_2022\"\n",
    "stationname=\"Color Fantasy\"\n",
    "projectname=\"NorSoop\""
   ],
   "metadata": {
    "collapsed": false,
    "pycharm": {
     "name": "#%% input parameters\n"
    }
   }
  },
  {
   "cell_type": "code",
   "execution_count": 69,
   "outputs": [
    {
     "name": "stdout",
     "output_type": "stream",
     "text": [
      "Fetched data ts\n"
     ]
    }
   ],
   "source": [
    "engine = create_engine(SETTINGS.database_url)\n",
    "te = TrajectoryExtractor(engine, boat, measurement_parameters)\n",
    "ts = te.fetch_slice(start_time=datetime(2021, 12, 12, 16, 0, 0), end_time=datetime(2021, 12, 13, 16, 0, 0))\n",
    "print(f\"Fetched data ts\")"
   ],
   "metadata": {
    "collapsed": false,
    "pycharm": {
     "name": "#%% fetch data for\n"
    }
   }
  },
  {
   "cell_type": "code",
   "execution_count": 70,
   "outputs": [
    {
     "name": "stdout",
     "output_type": "stream",
     "text": [
      "Manual qc is not yet implemented\n"
     ]
    }
   ],
   "source": [
    "print(f\"Manual qc is not yet implemented\")\n",
    "# print(f\"Data after manual qc {ts}\")"
   ],
   "metadata": {
    "collapsed": false,
    "pycharm": {
     "name": "#%% apply manual QC\n"
    }
   }
  },
  {
   "cell_type": "code",
   "execution_count": 71,
   "outputs": [
    {
     "name": "stdout",
     "output_type": "stream",
     "text": [
      "ds <xarray.Dataset>\n",
      "Dimensions:                (time: 965)\n",
      "Coordinates:\n",
      "  * time                   (time) datetime64[ns] 2021-12-12T16:00:12 ... 2021...\n",
      "    longitude              (time) float64 10.92 10.93 10.93 ... 10.64 10.64\n",
      "    latitude               (time) float64 54.95 54.96 54.96 ... 59.12 59.11\n",
      "Data variables:\n",
      "    sea_water_temperature  (time) float64 6.468 6.456 6.459 ... 5.403 5.245 5.22\n",
      "    salinity               (time) float64 9.928 9.906 9.857 ... 5.671 5.687 5.69\n",
      "    oxygen                 (time) float64 93.88 95.03 93.84 ... 94.12 94.74\n",
      "    trajectory_name        <U13 'Color Fantasy'\n",
      "Attributes: (12/36)\n",
      "    featureType:             trajectory\n",
      "    id:                      29b7de62-e1fa-4dce-90e4-7ff8a0931397\n",
      "    title:                   Ferrybox on MS Color Fantasy\n",
      "    summary:                 Ferry sailing from Oslo to Kiel. For more inform...\n",
      "    date_created:            2023-04-13 11:59:04.191244\n",
      "    keywords:                \n",
      "    ...                      ...\n",
      "    publisher_email:         miljoinformatikk@niva.no\n",
      "    publisher_url:           https://niva.no\n",
      "    license:                 These data are public and free of charge. User a...\n",
      "    iso_topic_category:      Not available\n",
      "    history:                 Built with dscreator\n",
      "    source:                  Ferryboxes\n"
     ]
    }
   ],
   "source": [
    "tb = FerryboxTrajBuilder(\n",
    "    uuid=uuid,\n",
    "    dataset_name=datasetname,\n",
    "    station_name=stationname,\n",
    "    project_name=projectname,\n",
    "    is_acdd=True,\n",
    ")\n",
    "ds = tb.create(ts)\n",
    "print(f\"ds {ds}\")"
   ],
   "metadata": {
    "collapsed": false,
    "pycharm": {
     "name": "#%% build dataset\n"
    }
   }
  },
  {
   "cell_type": "code",
   "execution_count": 73,
   "outputs": [
    {
     "name": "stdout",
     "output_type": "stream",
     "text": [
      "Saving dataset slice 2021-12-12T16:00:12.000000000 --> 2021-12-13T15:59:47.000000000\n",
      "sh LocalStorageHandler(project_name='FA_ferrybox_2017_2022', dataset_name='Color Fantasy', filename_prefix='FA', workdir='datasets/fa_ferrybox_2017_2022/Color Fantasy', restart_filepath='datasets/fa_ferrybox_2017_2022/Color Fantasy/.Color Fantasy.restart.json', unlimited_dims=['time'])\n",
      "<xarray.Dataset>\n",
      "Dimensions:                (time: 965)\n",
      "Coordinates:\n",
      "  * time                   (time) datetime64[ns] 2021-12-12T16:00:12 ... 2021...\n",
      "    longitude              (time) float64 10.92 10.93 10.93 ... 10.64 10.64\n",
      "    latitude               (time) float64 54.95 54.96 54.96 ... 59.12 59.11\n",
      "Data variables:\n",
      "    sea_water_temperature  (time) float64 6.468 6.456 6.459 ... 5.403 5.245 5.22\n",
      "    salinity               (time) float64 9.928 9.906 9.857 ... 5.671 5.687 5.69\n",
      "    oxygen                 (time) float64 93.88 95.03 93.84 ... 94.12 94.74\n",
      "    trajectory_name        <U13 'Color Fantasy'\n",
      "Attributes: (12/36)\n",
      "    featureType:             trajectory\n",
      "    id:                      29b7de62-e1fa-4dce-90e4-7ff8a0931397\n",
      "    title:                   Ferrybox on MS Color Fantasy\n",
      "    summary:                 Ferry sailing from Oslo to Kiel. For more inform...\n",
      "    date_created:            2023-04-13 11:59:04.191244\n",
      "    keywords:                \n",
      "    ...                      ...\n",
      "    publisher_email:         miljoinformatikk@niva.no\n",
      "    publisher_url:           https://niva.no\n",
      "    license:                 These data are public and free of charge. User a...\n",
      "    iso_topic_category:      Not available\n",
      "    history:                 Built with dscreator\n",
      "    source:                  Ferryboxes\n"
     ]
    },
    {
     "ename": "ValueError",
     "evalue": "unexpected encoding for scipy backend: ['zlib', '_FillValue']",
     "output_type": "error",
     "traceback": [
      "\u001B[0;31m---------------------------------------------------------------------------\u001B[0m",
      "\u001B[0;31mValueError\u001B[0m                                Traceback (most recent call last)",
      "Cell \u001B[0;32mIn[73], line 12\u001B[0m\n\u001B[1;32m     10\u001B[0m     \u001B[38;5;28mprint\u001B[39m(\u001B[38;5;124mf\u001B[39m\u001B[38;5;124m\"\u001B[39m\u001B[38;5;124msh \u001B[39m\u001B[38;5;132;01m{\u001B[39;00msh\u001B[38;5;132;01m}\u001B[39;00m\u001B[38;5;124m\"\u001B[39m)\n\u001B[1;32m     11\u001B[0m     \u001B[38;5;28mprint\u001B[39m(ds)\n\u001B[0;32m---> 12\u001B[0m     \u001B[43msh\u001B[49m\u001B[38;5;241;43m.\u001B[39;49m\u001B[43msave_dataset\u001B[49m\u001B[43m(\u001B[49m\u001B[43mds\u001B[49m\u001B[43m)\u001B[49m\n\u001B[1;32m     13\u001B[0m \u001B[38;5;28;01melse\u001B[39;00m:\n\u001B[1;32m     14\u001B[0m     \u001B[38;5;28mprint\u001B[39m(\u001B[38;5;124m\"\u001B[39m\u001B[38;5;124mFound no data for interval\u001B[39m\u001B[38;5;124m\"\u001B[39m)\n",
      "File \u001B[0;32m~/NIVAcode/datasetcreator/dscreator/storage.py:147\u001B[0m, in \u001B[0;36mLocalStorageHandler.save_dataset\u001B[0;34m(self, ds, encoding)\u001B[0m\n\u001B[1;32m    145\u001B[0m save_location \u001B[38;5;241m=\u001B[39m os\u001B[38;5;241m.\u001B[39mpath\u001B[38;5;241m.\u001B[39mjoin(SETTINGS\u001B[38;5;241m.\u001B[39mstorage_path, filepath)\n\u001B[1;32m    146\u001B[0m os\u001B[38;5;241m.\u001B[39mmakedirs(os\u001B[38;5;241m.\u001B[39mpath\u001B[38;5;241m.\u001B[39mdirname(save_location), exist_ok\u001B[38;5;241m=\u001B[39m\u001B[38;5;28;01mTrue\u001B[39;00m)\n\u001B[0;32m--> 147\u001B[0m \u001B[38;5;28;43mself\u001B[39;49m\u001B[38;5;241;43m.\u001B[39;49m\u001B[43msave_netcdf\u001B[49m\u001B[43m(\u001B[49m\u001B[43mds\u001B[49m\u001B[43m,\u001B[49m\u001B[43m \u001B[49m\u001B[43msave_location\u001B[49m\u001B[43m,\u001B[49m\u001B[43m \u001B[49m\u001B[43mencoding\u001B[49m\u001B[43m)\u001B[49m\n\u001B[1;32m    149\u001B[0m \u001B[38;5;28;01mreturn\u001B[39;00m save_location\n",
      "File \u001B[0;32m~/NIVAcode/datasetcreator/dscreator/storage.py:45\u001B[0m, in \u001B[0;36mBaseHandler.save_netcdf\u001B[0;34m(self, ds, filename, encoding)\u001B[0m\n\u001B[1;32m     43\u001B[0m \u001B[38;5;28;01mif\u001B[39;00m encoding \u001B[38;5;129;01mis\u001B[39;00m \u001B[38;5;28;01mNone\u001B[39;00m:\n\u001B[1;32m     44\u001B[0m     encoding \u001B[38;5;241m=\u001B[39m default_encoding(ds)\n\u001B[0;32m---> 45\u001B[0m \u001B[43mds\u001B[49m\u001B[38;5;241;43m.\u001B[39;49m\u001B[43mto_netcdf\u001B[49m\u001B[43m(\u001B[49m\u001B[43mfilename\u001B[49m\u001B[43m,\u001B[49m\u001B[43m \u001B[49m\u001B[43munlimited_dims\u001B[49m\u001B[38;5;241;43m=\u001B[39;49m\u001B[38;5;28;43mself\u001B[39;49m\u001B[38;5;241;43m.\u001B[39;49m\u001B[43munlimited_dims\u001B[49m\u001B[43m,\u001B[49m\u001B[43m \u001B[49m\u001B[43mencoding\u001B[49m\u001B[38;5;241;43m=\u001B[39;49m\u001B[43mencoding\u001B[49m\u001B[43m)\u001B[49m\n",
      "File \u001B[0;32m~/Library/Caches/pypoetry/virtualenvs/dscreator-f4z8y-lv-py3.11/lib/python3.11/site-packages/xarray/core/dataset.py:1904\u001B[0m, in \u001B[0;36mDataset.to_netcdf\u001B[0;34m(self, path, mode, format, group, engine, encoding, unlimited_dims, compute, invalid_netcdf)\u001B[0m\n\u001B[1;32m   1901\u001B[0m     encoding \u001B[38;5;241m=\u001B[39m {}\n\u001B[1;32m   1902\u001B[0m \u001B[38;5;28;01mfrom\u001B[39;00m \u001B[38;5;21;01m.\u001B[39;00m\u001B[38;5;21;01m.\u001B[39;00m\u001B[38;5;21;01mbackends\u001B[39;00m\u001B[38;5;21;01m.\u001B[39;00m\u001B[38;5;21;01mapi\u001B[39;00m \u001B[38;5;28;01mimport\u001B[39;00m to_netcdf\n\u001B[0;32m-> 1904\u001B[0m \u001B[38;5;28;01mreturn\u001B[39;00m \u001B[43mto_netcdf\u001B[49m\u001B[43m(\u001B[49m\u001B[43m  \u001B[49m\u001B[38;5;66;43;03m# type: ignore  # mypy cannot resolve the overloads:(\u001B[39;49;00m\n\u001B[1;32m   1905\u001B[0m \u001B[43m    \u001B[49m\u001B[38;5;28;43mself\u001B[39;49m\u001B[43m,\u001B[49m\n\u001B[1;32m   1906\u001B[0m \u001B[43m    \u001B[49m\u001B[43mpath\u001B[49m\u001B[43m,\u001B[49m\n\u001B[1;32m   1907\u001B[0m \u001B[43m    \u001B[49m\u001B[43mmode\u001B[49m\u001B[38;5;241;43m=\u001B[39;49m\u001B[43mmode\u001B[49m\u001B[43m,\u001B[49m\n\u001B[1;32m   1908\u001B[0m \u001B[43m    \u001B[49m\u001B[38;5;28;43mformat\u001B[39;49m\u001B[38;5;241;43m=\u001B[39;49m\u001B[38;5;28;43mformat\u001B[39;49m\u001B[43m,\u001B[49m\n\u001B[1;32m   1909\u001B[0m \u001B[43m    \u001B[49m\u001B[43mgroup\u001B[49m\u001B[38;5;241;43m=\u001B[39;49m\u001B[43mgroup\u001B[49m\u001B[43m,\u001B[49m\n\u001B[1;32m   1910\u001B[0m \u001B[43m    \u001B[49m\u001B[43mengine\u001B[49m\u001B[38;5;241;43m=\u001B[39;49m\u001B[43mengine\u001B[49m\u001B[43m,\u001B[49m\n\u001B[1;32m   1911\u001B[0m \u001B[43m    \u001B[49m\u001B[43mencoding\u001B[49m\u001B[38;5;241;43m=\u001B[39;49m\u001B[43mencoding\u001B[49m\u001B[43m,\u001B[49m\n\u001B[1;32m   1912\u001B[0m \u001B[43m    \u001B[49m\u001B[43munlimited_dims\u001B[49m\u001B[38;5;241;43m=\u001B[39;49m\u001B[43munlimited_dims\u001B[49m\u001B[43m,\u001B[49m\n\u001B[1;32m   1913\u001B[0m \u001B[43m    \u001B[49m\u001B[43mcompute\u001B[49m\u001B[38;5;241;43m=\u001B[39;49m\u001B[43mcompute\u001B[49m\u001B[43m,\u001B[49m\n\u001B[1;32m   1914\u001B[0m \u001B[43m    \u001B[49m\u001B[43mmultifile\u001B[49m\u001B[38;5;241;43m=\u001B[39;49m\u001B[38;5;28;43;01mFalse\u001B[39;49;00m\u001B[43m,\u001B[49m\n\u001B[1;32m   1915\u001B[0m \u001B[43m    \u001B[49m\u001B[43minvalid_netcdf\u001B[49m\u001B[38;5;241;43m=\u001B[39;49m\u001B[43minvalid_netcdf\u001B[49m\u001B[43m,\u001B[49m\n\u001B[1;32m   1916\u001B[0m \u001B[43m\u001B[49m\u001B[43m)\u001B[49m\n",
      "File \u001B[0;32m~/Library/Caches/pypoetry/virtualenvs/dscreator-f4z8y-lv-py3.11/lib/python3.11/site-packages/xarray/backends/api.py:1231\u001B[0m, in \u001B[0;36mto_netcdf\u001B[0;34m(dataset, path_or_file, mode, format, group, engine, encoding, unlimited_dims, compute, multifile, invalid_netcdf)\u001B[0m\n\u001B[1;32m   1226\u001B[0m \u001B[38;5;66;03m# TODO: figure out how to refactor this logic (here and in save_mfdataset)\u001B[39;00m\n\u001B[1;32m   1227\u001B[0m \u001B[38;5;66;03m# to avoid this mess of conditionals\u001B[39;00m\n\u001B[1;32m   1228\u001B[0m \u001B[38;5;28;01mtry\u001B[39;00m:\n\u001B[1;32m   1229\u001B[0m     \u001B[38;5;66;03m# TODO: allow this work (setting up the file for writing array data)\u001B[39;00m\n\u001B[1;32m   1230\u001B[0m     \u001B[38;5;66;03m# to be parallelized with dask\u001B[39;00m\n\u001B[0;32m-> 1231\u001B[0m     \u001B[43mdump_to_store\u001B[49m\u001B[43m(\u001B[49m\n\u001B[1;32m   1232\u001B[0m \u001B[43m        \u001B[49m\u001B[43mdataset\u001B[49m\u001B[43m,\u001B[49m\u001B[43m \u001B[49m\u001B[43mstore\u001B[49m\u001B[43m,\u001B[49m\u001B[43m \u001B[49m\u001B[43mwriter\u001B[49m\u001B[43m,\u001B[49m\u001B[43m \u001B[49m\u001B[43mencoding\u001B[49m\u001B[38;5;241;43m=\u001B[39;49m\u001B[43mencoding\u001B[49m\u001B[43m,\u001B[49m\u001B[43m \u001B[49m\u001B[43munlimited_dims\u001B[49m\u001B[38;5;241;43m=\u001B[39;49m\u001B[43munlimited_dims\u001B[49m\n\u001B[1;32m   1233\u001B[0m \u001B[43m    \u001B[49m\u001B[43m)\u001B[49m\n\u001B[1;32m   1234\u001B[0m     \u001B[38;5;28;01mif\u001B[39;00m autoclose:\n\u001B[1;32m   1235\u001B[0m         store\u001B[38;5;241m.\u001B[39mclose()\n",
      "File \u001B[0;32m~/Library/Caches/pypoetry/virtualenvs/dscreator-f4z8y-lv-py3.11/lib/python3.11/site-packages/xarray/backends/api.py:1278\u001B[0m, in \u001B[0;36mdump_to_store\u001B[0;34m(dataset, store, writer, encoder, encoding, unlimited_dims)\u001B[0m\n\u001B[1;32m   1275\u001B[0m \u001B[38;5;28;01mif\u001B[39;00m encoder:\n\u001B[1;32m   1276\u001B[0m     variables, attrs \u001B[38;5;241m=\u001B[39m encoder(variables, attrs)\n\u001B[0;32m-> 1278\u001B[0m \u001B[43mstore\u001B[49m\u001B[38;5;241;43m.\u001B[39;49m\u001B[43mstore\u001B[49m\u001B[43m(\u001B[49m\u001B[43mvariables\u001B[49m\u001B[43m,\u001B[49m\u001B[43m \u001B[49m\u001B[43mattrs\u001B[49m\u001B[43m,\u001B[49m\u001B[43m \u001B[49m\u001B[43mcheck_encoding\u001B[49m\u001B[43m,\u001B[49m\u001B[43m \u001B[49m\u001B[43mwriter\u001B[49m\u001B[43m,\u001B[49m\u001B[43m \u001B[49m\u001B[43munlimited_dims\u001B[49m\u001B[38;5;241;43m=\u001B[39;49m\u001B[43munlimited_dims\u001B[49m\u001B[43m)\u001B[49m\n",
      "File \u001B[0;32m~/Library/Caches/pypoetry/virtualenvs/dscreator-f4z8y-lv-py3.11/lib/python3.11/site-packages/xarray/backends/common.py:270\u001B[0m, in \u001B[0;36mAbstractWritableDataStore.store\u001B[0;34m(self, variables, attributes, check_encoding_set, writer, unlimited_dims)\u001B[0m\n\u001B[1;32m    268\u001B[0m \u001B[38;5;28mself\u001B[39m\u001B[38;5;241m.\u001B[39mset_attributes(attributes)\n\u001B[1;32m    269\u001B[0m \u001B[38;5;28mself\u001B[39m\u001B[38;5;241m.\u001B[39mset_dimensions(variables, unlimited_dims\u001B[38;5;241m=\u001B[39munlimited_dims)\n\u001B[0;32m--> 270\u001B[0m \u001B[38;5;28;43mself\u001B[39;49m\u001B[38;5;241;43m.\u001B[39;49m\u001B[43mset_variables\u001B[49m\u001B[43m(\u001B[49m\n\u001B[1;32m    271\u001B[0m \u001B[43m    \u001B[49m\u001B[43mvariables\u001B[49m\u001B[43m,\u001B[49m\u001B[43m \u001B[49m\u001B[43mcheck_encoding_set\u001B[49m\u001B[43m,\u001B[49m\u001B[43m \u001B[49m\u001B[43mwriter\u001B[49m\u001B[43m,\u001B[49m\u001B[43m \u001B[49m\u001B[43munlimited_dims\u001B[49m\u001B[38;5;241;43m=\u001B[39;49m\u001B[43munlimited_dims\u001B[49m\n\u001B[1;32m    272\u001B[0m \u001B[43m\u001B[49m\u001B[43m)\u001B[49m\n",
      "File \u001B[0;32m~/Library/Caches/pypoetry/virtualenvs/dscreator-f4z8y-lv-py3.11/lib/python3.11/site-packages/xarray/backends/common.py:308\u001B[0m, in \u001B[0;36mAbstractWritableDataStore.set_variables\u001B[0;34m(self, variables, check_encoding_set, writer, unlimited_dims)\u001B[0m\n\u001B[1;32m    306\u001B[0m name \u001B[38;5;241m=\u001B[39m _encode_variable_name(vn)\n\u001B[1;32m    307\u001B[0m check \u001B[38;5;241m=\u001B[39m vn \u001B[38;5;129;01min\u001B[39;00m check_encoding_set\n\u001B[0;32m--> 308\u001B[0m target, source \u001B[38;5;241m=\u001B[39m \u001B[38;5;28;43mself\u001B[39;49m\u001B[38;5;241;43m.\u001B[39;49m\u001B[43mprepare_variable\u001B[49m\u001B[43m(\u001B[49m\n\u001B[1;32m    309\u001B[0m \u001B[43m    \u001B[49m\u001B[43mname\u001B[49m\u001B[43m,\u001B[49m\u001B[43m \u001B[49m\u001B[43mv\u001B[49m\u001B[43m,\u001B[49m\u001B[43m \u001B[49m\u001B[43mcheck\u001B[49m\u001B[43m,\u001B[49m\u001B[43m \u001B[49m\u001B[43munlimited_dims\u001B[49m\u001B[38;5;241;43m=\u001B[39;49m\u001B[43munlimited_dims\u001B[49m\n\u001B[1;32m    310\u001B[0m \u001B[43m\u001B[49m\u001B[43m)\u001B[49m\n\u001B[1;32m    312\u001B[0m writer\u001B[38;5;241m.\u001B[39madd(source, target)\n",
      "File \u001B[0;32m~/Library/Caches/pypoetry/virtualenvs/dscreator-f4z8y-lv-py3.11/lib/python3.11/site-packages/xarray/backends/scipy_.py:213\u001B[0m, in \u001B[0;36mScipyDataStore.prepare_variable\u001B[0;34m(self, name, variable, check_encoding, unlimited_dims)\u001B[0m\n\u001B[1;32m    205\u001B[0m \u001B[38;5;28;01mdef\u001B[39;00m \u001B[38;5;21mprepare_variable\u001B[39m(\n\u001B[1;32m    206\u001B[0m     \u001B[38;5;28mself\u001B[39m, name, variable, check_encoding\u001B[38;5;241m=\u001B[39m\u001B[38;5;28;01mFalse\u001B[39;00m, unlimited_dims\u001B[38;5;241m=\u001B[39m\u001B[38;5;28;01mNone\u001B[39;00m\n\u001B[1;32m    207\u001B[0m ):\n\u001B[1;32m    208\u001B[0m     \u001B[38;5;28;01mif\u001B[39;00m (\n\u001B[1;32m    209\u001B[0m         check_encoding\n\u001B[1;32m    210\u001B[0m         \u001B[38;5;129;01mand\u001B[39;00m variable\u001B[38;5;241m.\u001B[39mencoding\n\u001B[1;32m    211\u001B[0m         \u001B[38;5;129;01mand\u001B[39;00m variable\u001B[38;5;241m.\u001B[39mencoding \u001B[38;5;241m!=\u001B[39m {\u001B[38;5;124m\"\u001B[39m\u001B[38;5;124m_FillValue\u001B[39m\u001B[38;5;124m\"\u001B[39m: \u001B[38;5;28;01mNone\u001B[39;00m}\n\u001B[1;32m    212\u001B[0m     ):\n\u001B[0;32m--> 213\u001B[0m         \u001B[38;5;28;01mraise\u001B[39;00m \u001B[38;5;167;01mValueError\u001B[39;00m(\n\u001B[1;32m    214\u001B[0m             \u001B[38;5;124mf\u001B[39m\u001B[38;5;124m\"\u001B[39m\u001B[38;5;124munexpected encoding for scipy backend: \u001B[39m\u001B[38;5;132;01m{\u001B[39;00m\u001B[38;5;28mlist\u001B[39m(variable\u001B[38;5;241m.\u001B[39mencoding)\u001B[38;5;132;01m}\u001B[39;00m\u001B[38;5;124m\"\u001B[39m\n\u001B[1;32m    215\u001B[0m         )\n\u001B[1;32m    217\u001B[0m     data \u001B[38;5;241m=\u001B[39m variable\u001B[38;5;241m.\u001B[39mdata\n\u001B[1;32m    218\u001B[0m     \u001B[38;5;66;03m# nb. this still creates a numpy array in all memory, even though we\u001B[39;00m\n\u001B[1;32m    219\u001B[0m     \u001B[38;5;66;03m# don't write the data yet; scipy.io.netcdf does not not support\u001B[39;00m\n\u001B[1;32m    220\u001B[0m     \u001B[38;5;66;03m# incremental writes.\u001B[39;00m\n",
      "\u001B[0;31mValueError\u001B[0m: unexpected encoding for scipy backend: ['zlib', '_FillValue']"
     ]
    }
   ],
   "source": [
    "if ds.dims[\"time\"] > 0:\n",
    "    print(f\"Saving dataset slice {ds.time[0].values} --> {ds.time[-1].values}\")\n",
    "\n",
    "    sh= get_storage_handler(\n",
    "        project_name=str(datasetname),\n",
    "        dataset_name=str(stationname),\n",
    "        unlimited_dims=[\"time\"],\n",
    "        filename_prefix= \"FA\"\n",
    "    )\n",
    "    print(f\"sh {sh}\")\n",
    "    print(ds)\n",
    "    sh.save_dataset(ds)\n",
    "else:\n",
    "    print(\"Found no data for interval\")"
   ],
   "metadata": {
    "collapsed": false,
    "pycharm": {
     "name": "#%% store dataset\n"
    }
   }
  }
 ],
 "metadata": {
  "kernelspec": {
   "name": "pycharm-59065761",
   "language": "python",
   "display_name": "PyCharm (datasetcreator)"
  },
  "language_info": {
   "codemirror_mode": {
    "name": "ipython",
    "version": 2
   },
   "file_extension": ".py",
   "mimetype": "text/x-python",
   "name": "python",
   "nbconvert_exporter": "python",
   "pygments_lexer": "ipython2",
   "version": "2.7.6"
  }
 },
 "nbformat": 4,
 "nbformat_minor": 0
}