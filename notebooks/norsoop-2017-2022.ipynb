{
 "cells": [
  {
   "cell_type": "code",
   "metadata": {
    "collapsed": true,
    "pycharm": {
     "name": "#%% import\n"
    }
   },
   "source": [
    "import os\n",
    "import pandas as pd\n",
    "import rioxarray as rxr\n",
    "import xarray as xr\n",
    "from dataclasses import asdict\n",
    "from dscreator.cfarray.attributes import DatasetAttrsGrid, VariableAttrs\n",
    "from datetime import datetime\n",
    "from dscreator import utils\n",
    "from dscreator.storage import BaseHandler, get_storage_handler\n",
    "from dscreator.sources.ferrybox.extractor import TrajectoryExtractor, NamedTrajectory, NamedArray\n",
    "from sqlalchemy import create_engine\n",
    "from dscreator.config import SETTINGS\n",
    "from dscreator.datasets.trajectories.ferrybox import FerryboxTrajBuilder\n",
    "import numpy as np"
   ],
   "execution_count": 211,
   "outputs": []
  },
  {
   "cell_type": "code",
   "execution_count": 212,
   "outputs": [],
   "source": [
    "boat = \"FA\"\n",
    "measurement_parameters = [\"Temperature\", \"Salinity\", \"Oxygen\"]\n",
    "uuid=\"29b7de62-e1fa-4dce-90e4-7ff8a0931397\"\n",
    "datasetname=\"FA_ferrybox_2017_2022\"\n",
    "stationname=\"Color Fantasy\"\n",
    "projectname=\"NorSoop\""
   ],
   "metadata": {
    "collapsed": false,
    "pycharm": {
     "name": "#%% input parameters\n"
    }
   }
  },
  {
   "cell_type": "code",
   "execution_count": 213,
   "outputs": [],
   "source": [
    "engine = create_engine(SETTINGS.database_url)\n",
    "te = TrajectoryExtractor(engine, boat, measurement_parameters)\n",
    "ts = te.fetch_slice(start_time=datetime(2017, 1, 1, 0, 0, 0), end_time=datetime(2017, 1, 31, 0, 0, 0))"
   ],
   "metadata": {
    "collapsed": false,
    "pycharm": {
     "name": "#%% fetch data\n"
    }
   }
  },
  {
   "cell_type": "code",
   "execution_count": 214,
   "outputs": [
    {
     "name": "stdout",
     "output_type": "stream",
     "text": [
      "Creating manual QC lookup list\n",
      "Found 6607 timestamp with no flow, and 5215 with bad oxygen\n",
      "5210 timestamps overlap\n",
      "About to set values for oxygen to None for bad oxygen timestamps\n",
      "About to remove bad flow data. Before removal size of data based on location is 33320\n",
      "After removal size of data based on location is 26713\n"
     ]
    }
   ],
   "source": [
    "print(f\"Creating manual QC lookup list\")\n",
    "rm_T = []\n",
    "rm_ox = []\n",
    "for file in os.listdir(os.getcwd()+'/Norsoop-manual-qc-files'):\n",
    "    if file.startswith(boat) and 'ox_sat' not in file:\n",
    "        rm_T.append(pd.read_csv('Norsoop-manual-qc-files/'+file, header=None))\n",
    "    if file.startswith(boat) and 'ox_sat' in file:\n",
    "        rm_ox.append(pd.read_csv('Norsoop-manual-qc-files/'+file, header=None))\n",
    "bad_T = pd.concat(rm_T, ignore_index=True)\n",
    "bad_ox = pd.concat(rm_ox, ignore_index=True)\n",
    "bad_T = np.array([dt.to_pydatetime() for dt in pd.to_datetime(bad_T[bad_T.columns[0]]).to_list()])\n",
    "bad_ox = np.array([dt.to_pydatetime() for dt in pd.to_datetime(bad_ox[bad_ox.columns[0]]).to_list()])\n",
    "i_bad_T = np.intersect1d(np.array(ts.datetime_list), bad_T, return_indices=True)[1]\n",
    "i_bad_ox = np.intersect1d(np.array(ts.datetime_list), bad_ox, return_indices=True)[1]\n",
    "print(f\"Found {len(i_bad_T)} timestamp with no flow, and {len(i_bad_ox)} with bad oxygen\")\n",
    "print(f\"{len(np.intersect1d(i_bad_T, i_bad_ox))} timestamps overlap\")\n",
    "print(f\"About to set values for oxygen to None for bad oxygen timestamps\")\n",
    "ts = NamedTrajectory(\n",
    "    array_list=[NamedArray(nta.variable_name, [None if i in i_bad_ox else val for i,val in enumerate(nta.values)])\n",
    "                if nta.variable_name==\"Oxygen\" else nta for nta in ts.array_list],\n",
    "    datetime_list=ts.datetime_list,\n",
    "    locations=ts.locations)\n",
    "\n",
    "print(f\"About to remove bad flow data. Before removal size of data based on location is \"\n",
    "      f\"{len(ts.locations)}\")\n",
    "ts = NamedTrajectory(\n",
    "    array_list=[NamedArray(nta.variable_name, list(np.delete(nta.values, i_bad_T)))\n",
    "                for nta in ts.array_list],\n",
    "    datetime_list=list(np.delete(ts.datetime_list, i_bad_T)),\n",
    "    locations=list(np.delete(ts.locations, i_bad_T)))\n",
    "print(f\"After removal size of data based on location is {len(ts.locations)}\")"
   ],
   "metadata": {
    "collapsed": false,
    "pycharm": {
     "name": "#%% apply manual QC\n"
    }
   }
  },
  {
   "cell_type": "code",
   "execution_count": 215,
   "outputs": [],
   "source": [
    "tb = FerryboxTrajBuilder(\n",
    "    uuid=uuid,\n",
    "    dataset_name=datasetname,\n",
    "    station_name=stationname,\n",
    "    project_name=projectname,\n",
    "    is_acdd=True,\n",
    ")\n",
    "ds = tb.create(ts)"
   ],
   "metadata": {
    "collapsed": false,
    "pycharm": {
     "name": "#%% build dataset\n"
    }
   }
  },
  {
   "cell_type": "code",
   "execution_count": 216,
   "outputs": [
    {
     "name": "stdout",
     "output_type": "stream",
     "text": [
      "Saving dataset slice 2017-01-01T13:25:03.000000000 --> 2017-01-30T23:59:23.000000000\n",
      "Dataset was successfully saved\n"
     ]
    }
   ],
   "source": [
    "if ds.dims[\"time\"] > 0:\n",
    "    print(f\"Saving dataset slice {ds.time[0].values} --> {ds.time[-1].values}\")\n",
    "\n",
    "    sh= get_storage_handler(\n",
    "        project_name=str(datasetname),\n",
    "        dataset_name=str(stationname),\n",
    "        unlimited_dims=[\"time\"],\n",
    "        filename_prefix= \"FA\"\n",
    "    )\n",
    "    sh.save_dataset(ds)\n",
    "    print(\"Dataset was successfully saved\")\n",
    "else:\n",
    "    print(\"Found no data for interval\")"
   ],
   "metadata": {
    "collapsed": false,
    "pycharm": {
     "name": "#%% store dataset\n"
    }
   }
  }
 ],
 "metadata": {
  "kernelspec": {
   "name": "pycharm-59065761",
   "language": "python",
   "display_name": "PyCharm (datasetcreator)"
  },
  "language_info": {
   "codemirror_mode": {
    "name": "ipython",
    "version": 2
   },
   "file_extension": ".py",
   "mimetype": "text/x-python",
   "name": "python",
   "nbconvert_exporter": "python",
   "pygments_lexer": "ipython2",
   "version": "2.7.6"
  }
 },
 "nbformat": 4,
 "nbformat_minor": 0
}