{
 "cells": [
  {
   "cell_type": "code",
   "execution_count": 7,
   "metadata": {
    "collapsed": true,
    "pycharm": {
     "name": "#%% import\n"
    }
   },
   "outputs": [],
   "source": [
    "import pandas as pd\n",
    "from datetime import datetime, timedelta\n",
    "from dscreator.storage import get_storage_handler\n",
    "from dscreator.sources.ferrybox.extractor import TrajectoryExtractor, NamedTrajectory, NamedArray\n",
    "from sqlalchemy import create_engine\n",
    "from dscreator.config import SETTINGS\n",
    "from dscreator.datasets.trajectories.ferrybox import FerryboxTrajBuilder\n",
    "import numpy as np"
   ]
  },
  {
   "cell_type": "code",
   "execution_count": 17,
   "metadata": {},
   "outputs": [],
   "source": [
    "def apply_manual_qc(traj_raw, boat, year) -> NamedTrajectory:\n",
    "    bad_ox = pd.read_csv(f'Norsoop-manual-qc-files/{boat}{year}_bad_ox_sat_dates.txt', header=None)\n",
    "    bad_T = pd.read_csv(f'Norsoop-manual-qc-files/{boat}{year}_bad_inletT_dates.txt', header=None)\n",
    "    bad_T = np.array([dt.to_pydatetime() for dt in pd.to_datetime(bad_T[bad_T.columns[0]]).to_list()])\n",
    "    bad_ox = np.array([dt.to_pydatetime() for dt in pd.to_datetime(bad_ox[bad_ox.columns[0]]).to_list()])\n",
    "    i_bad_T = np.intersect1d(np.array(traj_raw.datetime_list), bad_T, return_indices=True)[1]\n",
    "    i_bad_ox = np.intersect1d(np.array(traj_raw.datetime_list), bad_ox, return_indices=True)[1]\n",
    "    print(f\"Found {len(i_bad_T)} timestamp with no flow, and {len(i_bad_ox)} with bad oxygen\")\n",
    "    print(f\"{len(np.intersect1d(i_bad_T, i_bad_ox))} timestamps overlap\")\n",
    "    print(f\"About to set values for oxygen to None for bad oxygen timestamps\")\n",
    "    traj = NamedTrajectory(\n",
    "        array_list=[NamedArray(nta.variable_name, [None if i in i_bad_ox else val for i,val in enumerate(nta.values)])\n",
    "                    if nta.variable_name==\"Oxygen\" else nta for nta in traj_raw.array_list],\n",
    "        datetime_list=traj_raw.datetime_list,\n",
    "        locations=traj_raw.locations)\n",
    "\n",
    "    print(f\"About to remove bad flow data. Before removal size of data based on location is \"\n",
    "          f\"{len(traj.locations)}\")\n",
    "    traj = NamedTrajectory(\n",
    "        array_list=[NamedArray(nta.variable_name, list(np.delete(nta.values, i_bad_T)))\n",
    "                    for nta in traj.array_list],\n",
    "        datetime_list=list(np.delete(traj.datetime_list, i_bad_T)),\n",
    "        locations=list(np.delete(traj.locations, i_bad_T)))\n",
    "    print(f\"After removal size of data based on location is {len(traj.locations)}\")\n",
    "\n",
    "    return traj"
   ]
  },
  {
   "cell_type": "code",
   "execution_count": 15,
   "metadata": {
    "collapsed": false,
    "pycharm": {
     "name": "#%% input parameters\n"
    }
   },
   "outputs": [],
   "source": [
    "boat = \"FA\"\n",
    "measurement_parameters = [\"Temperature\", \"Salinity\", \"Oxygen\"]\n",
    "uuid=\"29b7de62-e1fa-4dce-90e4-7ff8a0931397\"\n",
    "datasetname=\"colorfantasy_ferrybox\"\n",
    "stationname=\"color_fantasy\"\n",
    "projectname=\"NorSoop\""
   ]
  },
  {
   "cell_type": "code",
   "execution_count": 18,
   "metadata": {
    "collapsed": false,
    "pycharm": {
     "name": "#%% fetch data\n"
    }
   },
   "outputs": [],
   "source": [
    "year = 2017\n",
    "start_time = datetime(year, 1, 1, 0, 0, 0)\n",
    "engine = create_engine(SETTINGS.database_url)\n",
    "te = TrajectoryExtractor(engine, boat, measurement_parameters)\n",
    "traj_raw = te.fetch_slice(start_time=start_time, end_time=start_time + timedelta(days=365))"
   ]
  },
  {
   "cell_type": "code",
   "execution_count": 19,
   "metadata": {
    "collapsed": false,
    "pycharm": {
     "name": "#%% build dataset\n"
    }
   },
   "outputs": [
    {
     "name": "stdout",
     "output_type": "stream",
     "text": [
      "Found 11566 timestamp with no flow, and 12638 with bad oxygen\n",
      "6025 timestamps overlap\n",
      "About to set values for oxygen to None for bad oxygen timestamps\n",
      "About to remove bad flow data. Before removal size of data based on location is 351678\n",
      "After removal size of data based on location is 340112\n"
     ]
    }
   ],
   "source": [
    "tb = FerryboxTrajBuilder(\n",
    "    uuid=uuid,\n",
    "    dataset_name=datasetname,\n",
    "    station_name=stationname,\n",
    "    project_name=projectname,\n",
    "    is_acdd=True,\n",
    ")\n",
    "ds = tb.create(apply_manual_qc(traj_raw, boat, year))"
   ]
  },
  {
   "cell_type": "code",
   "execution_count": 216,
   "metadata": {
    "collapsed": false,
    "pycharm": {
     "name": "#%% store dataset\n"
    }
   },
   "outputs": [
    {
     "name": "stdout",
     "output_type": "stream",
     "text": [
      "Saving dataset slice 2017-01-01T13:25:03.000000000 --> 2017-01-30T23:59:23.000000000\n",
      "Dataset was successfully saved\n"
     ]
    }
   ],
   "source": [
    "sh= get_storage_handler(\n",
    "    project_name=datasetname,\n",
    "    dataset_name=stationname,\n",
    "    unlimited_dims=[\"time\"],\n",
    "    filename_prefix= \"FA\"\n",
    ")\n",
    "sh.save_dataset(ds)\n"
   ]
  }
 ],
 "metadata": {
  "kernelspec": {
   "display_name": ".venv",
   "language": "python",
   "name": "python3"
  },
  "language_info": {
   "codemirror_mode": {
    "name": "ipython",
    "version": 3
   },
   "file_extension": ".py",
   "mimetype": "text/x-python",
   "name": "python",
   "nbconvert_exporter": "python",
   "pygments_lexer": "ipython3",
   "version": "3.10.13"
  }
 },
 "nbformat": 4,
 "nbformat_minor": 0
}
