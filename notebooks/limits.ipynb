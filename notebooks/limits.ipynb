{
 "cells": [
  {
   "cell_type": "code",
   "execution_count": 7,
   "metadata": {},
   "outputs": [],
   "source": [
    "import os\n",
    "import rioxarray as rxr\n",
    "import xarray as xr\n",
    "from dataclasses import asdict\n",
    "from dscreator.cfarray.attributes import DatasetAttrsGrid, VariableAttrs\n",
    "from datetime import datetime\n",
    "from dscreator import utils\n",
    "from dscreator.storage import get_storage_handler"
   ]
  },
  {
   "attachments": {},
   "cell_type": "markdown",
   "metadata": {},
   "source": [
    "The rapport can be found [here](https://niva365.sharepoint.com/sites/projects/3383/Shared%20Documents/Forms/AllItems.aspx?csf=1&web=1&e=A7HwOO&CT=1678890409578&OR=OWA%2DNT&CID=4ae0ac88%2Ddc20%2D15e6%2D4318%2D5052c4a4fa9e&FolderCTID=0x01200023B9EEB8E9C0094580920107C7844708&id=%2Fsites%2Fprojects%2F3383%2FShared%20Documents%2FProjects%2F2017%20T%C3%A5legrenseprosjekt%2FRapport&viewid=aa29078f%2D5cb7%2D41dd%2Da376%2D38bbe9dc6fa4)\n",
    "Notes:\n",
    "\n",
    "* The Steady-State Water Chemistry (SSWC), som beregner tålegrenser for sterk syre og overskridelse med utgangspunkt i at utlekkingen av nitrogen forblir konstant på dagens nivå.  \n",
    "* The First-order Acidity Balance (FAB), calculates limits for sulphur og nitrogen"
   ]
  },
  {
   "cell_type": "code",
   "execution_count": 8,
   "metadata": {},
   "outputs": [],
   "source": [
    "da_fab_tif = rxr.open_rasterio(os.path.join(\"data\", \"fab_exceed_ns_12_16_meq1.tif\"))\n",
    "da_fab_tif.name = \"fab\"\n",
    "da_fab_tif.attrs.update(asdict(\n",
    "    VariableAttrs(long_name=\"First-order Acidity Balance\", units=\"mEkv/m^2/year\", short_name=\"FAB\")\n",
    "))\n",
    "da_fab_tif = da_fab_tif.rio.reproject(\"EPSG:4326\")\n",
    "da_sswc_tif = rxr.open_rasterio(os.path.join(\"data\", \"sswc_exceed_12_16_meq1.tif\"))\n",
    "da_sswc_tif.name = \"sswc\"\n",
    "da_sswc_tif.attrs.update(asdict(\n",
    "    VariableAttrs(long_name=\"Steady-State Water Chemistry \", units=\"mEkv/m^2/year\", short_name=\"sswc\")\n",
    "))\n",
    "da_sswc_tif = da_sswc_tif.rio.reproject(\"EPSG:4326\")"
   ]
  },
  {
   "cell_type": "code",
   "execution_count": 4,
   "metadata": {},
   "outputs": [],
   "source": [
    "ds = xr.merge([da_fab_tif, da_sswc_tif])"
   ]
  },
  {
   "cell_type": "code",
   "execution_count": 9,
   "metadata": {},
   "outputs": [],
   "source": [
    "ds.attrs = asdict(DatasetAttrsGrid(\n",
    "            title=\"Test limits\",\n",
    "            title_no=\"Test grenser\",\n",
    "            summary=\"Test limits summary\",\n",
    "            summary_no=\"Test grenser oppsummering\",\n",
    "            #https://gcmd.earthdata.nasa.gov/KeywordViewer\n",
    "            keywords=\",\".join(\n",
    "                [\n",
    "                    \"GCMDSK:EARTH SCIENCE > LAND SURFACE > SOILS > NITROGEN\",\n",
    "                    \"GCMDSK:EARTH SCIENCE > LAND SURFACE > SOILS > SULFUR\",\n",
    "                    \"GCMDLOC:CONTINENT > EUROPE > NORTHERN EUROPE > SCANDINAVIA > NORWAY\",\n",
    "                ]\n",
    "            ),\n",
    "            keywords_vocabulary=\",\".join(\n",
    "                [\n",
    "                    \"GCMDSK:GCMD Science Keywords:https://gcmd.earthdata.nasa.gov/kms/concepts/concept_scheme/sciencekeywords\",\n",
    "                    \"GCMDLOC:GCMD Locations:https://gcmd.earthdata.nasa.gov/kms/concepts/concept_scheme/locations\",\n",
    "                ]\n",
    "            ),\n",
    "            iso_topic_category=\"environment\",\n",
    "            spatial_representation=\"grid\",\n",
    "            date_created=str(datetime.now()),\n",
    "            project=\"Test Limits\",\n",
    "            time_coverage_start=utils.to_isoformat(datetime(2012, 1, 1)),\n",
    "            time_coverage_end=utils.to_isoformat(datetime(2012, 1, 1)),\n",
    "            geospatial_lon_min=float(ds.x.min()),\n",
    "            geospatial_lon_max=float(ds.x.max()),\n",
    "            geospatial_lat_min=float(ds.y.min()),\n",
    "            geospatial_lat_max=float(ds.y.max()),\n",
    "        ))"
   ]
  },
  {
   "cell_type": "code",
   "execution_count": 11,
   "metadata": {},
   "outputs": [
    {
     "data": {
      "text/plain": [
       "<matplotlib.collections.QuadMesh at 0x7ff978939ff0>"
      ]
     },
     "execution_count": 11,
     "metadata": {},
     "output_type": "execute_result"
    }
   ],
   "source": [
    "ds.fab.plot()"
   ]
  },
  {
   "cell_type": "code",
   "execution_count": 6,
   "metadata": {},
   "outputs": [],
   "source": [
    "storage = get_storage_handler(\"limits\", \"acid-nitrogen\")\n",
    "storage.save_dataset(ds)"
   ]
  }
 ],
 "metadata": {
  "kernelspec": {
   "display_name": ".venv",
   "language": "python",
   "name": "python3"
  },
  "language_info": {
   "codemirror_mode": {
    "name": "ipython",
    "version": 3
   },
   "file_extension": ".py",
   "mimetype": "text/x-python",
   "name": "python",
   "nbconvert_exporter": "python",
   "pygments_lexer": "ipython3",
   "version": "3.10.10"
  },
  "orig_nbformat": 4,
  "vscode": {
   "interpreter": {
    "hash": "8599d4abdcd79e44112ed10d9742620c174ade4b2d29c3018e341178e884d761"
   }
  }
 },
 "nbformat": 4,
 "nbformat_minor": 2
}
